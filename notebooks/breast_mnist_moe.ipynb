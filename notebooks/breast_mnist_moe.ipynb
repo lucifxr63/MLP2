{
  "cells": [
    {
      "cell_type": "markdown",
      "metadata": {},
      "source": "# Detecci\u00f3n de C\u00e1ncer de Mama con Mixture of Experts\nEste notebook muestra un modelo CNN b\u00e1sico y una arquitectura MoE para el dataset BreastMNIST."
    },
    {
      "cell_type": "code",
      "metadata": {},
      "source": "import numpy as np\nimport matplotlib.pyplot as plt\nimport seaborn as sns\nimport tensorflow as tf\nfrom tensorflow import keras\nfrom tensorflow.keras import layers\nfrom medmnist import BreastMNIST, INFO\nfrom sklearn.metrics import classification_report, confusion_matrix, f1_score, roc_auc_score"
    },
    {
      "cell_type": "code",
      "metadata": {},
      "source": "data_flag = 'breastmnist'\ninfo = INFO[data_flag]\nDataClass = BreastMNIST\ntrain_ds = DataClass(split='train', download=True)\nval_ds = DataClass(split='val', download=True)\ntest_ds = DataClass(split='test', download=True)\n\ndef preprocess(img, label):\n    img = tf.cast(img, tf.float32) / 255.0\n    img = tf.expand_dims(img, -1)\n    label = tf.cast(label, tf.int32)\n    return img, label\n\ntrain_ds_tf = tf.data.Dataset.from_tensor_slices((train_ds.imgs, train_ds.labels)).map(preprocess).shuffle(1000)\nval_ds_tf = tf.data.Dataset.from_tensor_slices((val_ds.imgs, val_ds.labels)).map(preprocess)\ntest_ds_tf = tf.data.Dataset.from_tensor_slices((test_ds.imgs, test_ds.labels)).map(preprocess)"
    },
    {
      "cell_type": "code",
      "metadata": {},
      "source": "def get_distribution(ds):\n    labels = [int(l) for _,l in ds]\n    unique, counts = np.unique(labels, return_counts=True)\n    return dict(zip(unique, counts))\n\nprint('Distribuci\u00f3n entrenamiento:', get_distribution(train_ds_tf))\nprint('Distribuci\u00f3n validaci\u00f3n:', get_distribution(val_ds_tf))\n"
    },
    {
      "cell_type": "code",
      "metadata": {},
      "source": "plt.figure(figsize=(6,3))\nfor cls in [0,1]:\n    images = [img.numpy().squeeze() for img,l in train_ds_tf if int(l)==cls][:5]\n    for i,img in enumerate(images):\n        plt.subplot(2,5,cls*5+i+1)\n        plt.imshow(img, cmap='gray')\n        plt.axis('off')\n        if i==0: plt.ylabel('Benigno' if cls==0 else 'Maligno')\nplt.suptitle('Ejemplos por clase')\nplt.show()\nfor cls in [0,1]:\n    images = np.stack([img.numpy().squeeze() for img,l in train_ds_tf if int(l)==cls])\n    mean_img = images.mean(axis=0)\n    plt.imshow(mean_img, cmap='gray')\n    plt.title('Promedio clase %d'%cls)\n    plt.axis('off')\n    plt.show()"
    },
    {
      "cell_type": "code",
      "metadata": {},
      "source": "def build_cnn():\n    inputs = keras.Input(shape=(64,64,1))\n    x = layers.Conv2D(32,3,activation='relu')(inputs)\n    x = layers.MaxPooling2D()(x)\n    x = layers.Conv2D(64,3,activation='relu')(x)\n    x = layers.MaxPooling2D()(x)\n    x = layers.Flatten()(x)\n    x = layers.Dense(64,activation='relu')(x)\n    x = layers.Dropout(0.5)(x)\n    outputs = layers.Dense(1,activation='sigmoid')(x)\n    return keras.Model(inputs, outputs)"
    },
    {
      "cell_type": "code",
      "metadata": {},
      "source": "data_augmentation = keras.Sequential([layers.RandomFlip('horizontal'), layers.RandomRotation(0.1), layers.RandomZoom(0.1)])\n\ndef augment(img,label):\n    return data_augmentation(img), label\n\nbatch_size = 32\ntrain_aug = train_ds_tf.map(augment).batch(batch_size).prefetch(2)\nval_ds_b = val_ds_tf.batch(batch_size).prefetch(2)"
    },
    {
      "cell_type": "code",
      "metadata": {},
      "source": "labels=[int(l) for _,l in train_ds_tf]\nneg,pos=np.bincount(labels)\ntotal=neg+pos\nclass_weights={0:(1/neg)*(total/2.0),1:(1/pos)*(total/2.0)}\nclass_weights"
    },
    {
      "cell_type": "code",
      "metadata": {},
      "source": "cnn=build_cnn()\ncnn.compile(optimizer='adam', loss='binary_crossentropy', metrics=['accuracy', keras.metrics.AUC(name='auc')])\nhistory=cnn.fit(train_aug, validation_data=val_ds_b, epochs=20, class_weight=class_weights)"
    },
    {
      "cell_type": "code",
      "metadata": {},
      "source": "test_b=test_ds_tf.batch(batch_size)\nprobs=cnn.predict(test_b)\ny_true=np.concatenate([y for _,y in test_b],axis=0)\ny_pred=(probs.ravel()>0.5).astype(int)\nprint(classification_report(y_true,y_pred))\nprint('F1:',f1_score(y_true,y_pred))\nprint('AUC:',roc_auc_score(y_true,probs))\ncm=confusion_matrix(y_true,y_pred)\nsns.heatmap(cm,annot=True,fmt='d');plt.xlabel('Pred');plt.ylabel('True');plt.show()\nplt.figure();plt.plot(history.history['loss'],label='train');plt.plot(history.history['val_loss'],label='val');plt.legend();plt.xlabel('Epoch');plt.ylabel('Loss');plt.show()\nplt.figure();plt.plot(history.history['accuracy'],label='train');plt.plot(history.history['val_accuracy'],label='val');plt.legend();plt.xlabel('Epoch');plt.ylabel('Accuracy');plt.show()"
    },
    {
      "cell_type": "code",
      "metadata": {},
      "source": "def build_expert():\n    inp=keras.Input(shape=(64,64,1))\n    x=layers.Conv2D(32,3,activation='relu')(inp)\n    x=layers.MaxPooling2D()(x)\n    x=layers.Conv2D(64,3,activation='relu')(x)\n    x=layers.MaxPooling2D()(x)\n    x=layers.Flatten()(x)\n    x=layers.Dense(64,activation='relu')(x)\n    return keras.Model(inp,x)\n\ndef build_moe(n_experts=2):\n    inputs=keras.Input(shape=(64,64,1))\n    experts=[build_expert()(inputs) for _ in range(n_experts)]\n    expert_outputs=[layers.Dense(1)(e) for e in experts]\n    gate=layers.Flatten()(inputs)\n    gate=layers.Dense(32,activation='relu')(gate)\n    gate=layers.Dense(n_experts,activation='softmax')(gate)\n    gate=tf.expand_dims(gate,-1)\n    concat=tf.stack(expert_outputs,axis=1)\n    weighted=concat*gate\n    out=tf.reduce_sum(weighted,axis=1)\n    out=layers.Activation('sigmoid')(out)\n    return keras.Model(inputs,out)"
    },
    {
      "cell_type": "code",
      "metadata": {},
      "source": "results={}\nfor n in [2,4,8]:\n    moe=build_moe(n)\n    moe.compile(optimizer='adam', loss='binary_crossentropy', metrics=['accuracy', keras.metrics.AUC(name='auc')])\n    h=moe.fit(train_aug, validation_data=val_ds_b, epochs=20, class_weight=class_weights)\n    probs=moe.predict(test_b)\n    y_pred=(probs.ravel()>0.5).astype(int)\n    f1=f1_score(y_true,y_pred)\n    auc=roc_auc_score(y_true,probs)\n    results[n]={'history':h.history,'f1':f1,'auc':auc}\n    print(f'MoE {n} expertos - F1:{f1:.4f} AUC:{auc:.4f}')"
    },
    {
      "cell_type": "code",
      "metadata": {},
      "source": "for n,res in results.items():\n    plt.figure();\n    plt.plot(res['history']['loss'],label='train');\n    plt.plot(res['history']['val_loss'],label='val');\n    plt.title(f'MoE {n} expertos');\n    plt.legend();\n    plt.show()"
    }
  ],
  "metadata": {
    "kernelspec": {
      "display_name": "Python 3",
      "language": "python",
      "name": "python3"
    }
  },
  "nbformat": 4,
  "nbformat_minor": 5
}
